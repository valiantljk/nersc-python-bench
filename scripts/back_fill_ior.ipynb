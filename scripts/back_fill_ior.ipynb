{
 "cells": [
  {
   "cell_type": "code",
   "execution_count": 89,
   "metadata": {
    "collapsed": false
   },
   "outputs": [],
   "source": [
    "old_ior='/project/projectdirs/mpccc/fbench/IOR_CSCRATCH/IOR_HSW'"
   ]
  },
  {
   "cell_type": "code",
   "execution_count": 127,
   "metadata": {
    "collapsed": true
   },
   "outputs": [],
   "source": [
    "import os,sys\n",
    "xdir_dir=[ os.path.join(old_ior,name) for name in os.listdir(old_ior) if os.path.isdir(os.path.join(old_ior, name)) ]"
   ]
  },
  {
   "cell_type": "code",
   "execution_count": null,
   "metadata": {
    "collapsed": true
   },
   "outputs": [],
   "source": []
  },
  {
   "cell_type": "code",
   "execution_count": 91,
   "metadata": {
    "collapsed": false
   },
   "outputs": [],
   "source": []
  },
  {
   "cell_type": "code",
   "execution_count": 92,
   "metadata": {
    "collapsed": false
   },
   "outputs": [
    {
     "data": {
      "text/plain": [
       "['/project/projectdirs/mpccc/fbench/IOR_CSCRATCH/IOR_HSW/32node_mpiio_fpp',\n",
       " '/project/projectdirs/mpccc/fbench/IOR_CSCRATCH/IOR_HSW/32node_mpiio_ssf',\n",
       " '/project/projectdirs/mpccc/fbench/IOR_CSCRATCH/IOR_HSW/32node_posix_fpp',\n",
       " '/project/projectdirs/mpccc/fbench/IOR_CSCRATCH/IOR_HSW/32node_posix_ssf',\n",
       " '/project/projectdirs/mpccc/fbench/IOR_CSCRATCH/IOR_HSW/1node_mpiio_fpp',\n",
       " '/project/projectdirs/mpccc/fbench/IOR_CSCRATCH/IOR_HSW/1node_mpiio_ssf',\n",
       " '/project/projectdirs/mpccc/fbench/IOR_CSCRATCH/IOR_HSW/1node_posix_fpp',\n",
       " '/project/projectdirs/mpccc/fbench/IOR_CSCRATCH/IOR_HSW/1node_posix_ssf']"
      ]
     },
     "execution_count": 92,
     "metadata": {},
     "output_type": "execute_result"
    }
   ],
   "source": [
    "xdir_dir"
   ]
  },
  {
   "cell_type": "code",
   "execution_count": 93,
   "metadata": {
    "collapsed": false
   },
   "outputs": [],
   "source": [
    "ior_test=[ os.path.join(xdir_dir[0],name) for name in os.listdir(xdir_dir[0]) if name.endswith('IOR') and '_1000000_' in name]"
   ]
  },
  {
   "cell_type": "code",
   "execution_count": 94,
   "metadata": {
    "collapsed": false
   },
   "outputs": [
    {
     "data": {
      "text/plain": [
       "111"
      ]
     },
     "execution_count": 94,
     "metadata": {},
     "output_type": "execute_result"
    }
   ],
   "source": [
    "len(ior_test)"
   ]
  },
  {
   "cell_type": "code",
   "execution_count": 95,
   "metadata": {
    "collapsed": false
   },
   "outputs": [
    {
     "data": {
      "text/plain": [
       "'/project/projectdirs/mpccc/fbench/IOR_CSCRATCH/IOR_HSW/32node_mpiio_fpp/32node_mpiio_fpp_1024ranks_32nodes_4fpo_1000000_192gb_3257288.IOR'"
      ]
     },
     "execution_count": 95,
     "metadata": {},
     "output_type": "execute_result"
    }
   ],
   "source": [
    "ior_test[0]"
   ]
  },
  {
   "cell_type": "code",
   "execution_count": 126,
   "metadata": {
    "collapsed": false
   },
   "outputs": [],
   "source": [
    "import re\n",
    "import time,datetime\n",
    "fileior=ior_test[0]\n",
    "def construct_sql(fileior):\n",
    "    file=open(fileior,'r')\n",
    "    row = file.readlines()\n",
    "    dateior_unix=[]\n",
    "    for line in row:\n",
    "        if re.search(\"Began\",line):\n",
    "            temdateior=line.replace('Began: ',\"\")\n",
    "            temdateior=temdateior.replace('\\n',\"\")\n",
    "            print temdateior\n",
    "            dateior_unix.append(int(time.mktime(datetime.datetime.strptime(temdateior, \"%c\").timetuple())))\n",
    "            print dateior_unix\n",
    "        if re.search('Max Write',line):\n",
    "            ior_write=(line.split(' ')[2])\n",
    "            print ior_write\n",
    "        if re.search('clients',line):\n",
    "            numtasks=line.replace(' ',\"\").split('=')[-1].split('(')[0]\n",
    "        if re.search('Max Read', line):\n",
    "            ior_read=(line.split(' ')[3])\n",
    "            print ior_read\n",
    "            break\n",
    "    bench_name_write=fileior.split('/')[7]+'_write'\n",
    "    bench_name_read=fileior.split('/')[7]+'_read'\n",
    "    jobid=fileior.split('_')[-1].split('.')[0]\n",
    "    hostname='cori'\n",
    "    cmd=[]\n",
    "    cmd.append('./report-ior.py insert %s %s %s %s %s %s'%(bench_name_write, dateior_unix[0], jobid, numtasks, hostname, ior_write))\n",
    "    cmd.append('./report-ior.py insert %s %s %s %s %s %s'%(bench_name_read, dateior_unix[1], jobid, numtasks, hostname, ior_read))\n",
    "    print cmd[0]\n",
    "    print cmd[1]\n",
    "    return cmd\n"
   ]
  },
  {
   "cell_type": "code",
   "execution_count": 124,
   "metadata": {
    "collapsed": false
   },
   "outputs": [],
   "source": [
    "#python report-ior.py insert bench_name timestamp jobid numtasks hostname metric_value"
   ]
  },
  {
   "cell_type": "code",
   "execution_count": 125,
   "metadata": {
    "collapsed": false
   },
   "outputs": [
    {
     "name": "stderr",
     "output_type": "stream",
     "text": [
      "ERROR:root:File `u'python.py'` not found.\n",
      "ERROR:root:File `u'python.py'` not found.\n"
     ]
    },
    {
     "name": "stdout",
     "output_type": "stream",
     "text": [
      "Sat Dec 10 11:13:42 2016\n",
      "[1481397222]\n",
      "94128.59\n",
      "Sat Dec 10 11:15:08 2016\n",
      "[1481397222, 1481397308]\n",
      "69510.03\n",
      "python report-ior.py insert 32node_mpiio_fpp_write 1481397222 3257288 1024 cori 94128.59\n",
      "python report-ior.py insert 32node_mpiio_fpp_read 1481397308 3257288 1024 cori 69510.03\n"
     ]
    }
   ],
   "source": [
    "cmd=construct_sql(fileior)\n",
    "%run {cmd[0]}\n",
    "%run {cmd[1]}"
   ]
  },
  {
   "cell_type": "code",
   "execution_count": 129,
   "metadata": {
    "collapsed": false
   },
   "outputs": [
    {
     "ename": "SyntaxError",
     "evalue": "invalid syntax (<ipython-input-129-23040340a24b>, line 1)",
     "output_type": "error",
     "traceback": [
      "\u001b[0;36m  File \u001b[0;32m\"<ipython-input-129-23040340a24b>\"\u001b[0;36m, line \u001b[0;32m1\u001b[0m\n\u001b[0;31m    import 'report-ior.py'\u001b[0m\n\u001b[0m                         ^\u001b[0m\n\u001b[0;31mSyntaxError\u001b[0m\u001b[0;31m:\u001b[0m invalid syntax\n"
     ]
    }
   ],
   "source": [
    "import 'report-ior.py'"
   ]
  },
  {
   "cell_type": "code",
   "execution_count": null,
   "metadata": {
    "collapsed": false
   },
   "outputs": [],
   "source": []
  },
  {
   "cell_type": "code",
   "execution_count": 108,
   "metadata": {
    "collapsed": false
   },
   "outputs": [
    {
     "ename": "SyntaxError",
     "evalue": "invalid syntax (<string>, line 1)",
     "output_type": "error",
     "traceback": [
      "\u001b[0;36m  File \u001b[0;32m\"<string>\"\u001b[0;36m, line \u001b[0;32m1\u001b[0m\n\u001b[0;31m    python report-ior.py insert 32node_mpiio_fpp_write 1481397222 3257288 1024 cori 94128.59\u001b[0m\n\u001b[0m                ^\u001b[0m\n\u001b[0;31mSyntaxError\u001b[0m\u001b[0;31m:\u001b[0m invalid syntax\n"
     ]
    }
   ],
   "source": [
    "exec(cmd[0])"
   ]
  },
  {
   "cell_type": "code",
   "execution_count": 109,
   "metadata": {
    "collapsed": false
   },
   "outputs": [
    {
     "name": "stdout",
     "output_type": "stream",
     "text": [
      "back_fill_ior.ipynb  \u001b[0m\u001b[01;34mpython-bench\u001b[0m/        \u001b[01;32mreport-benchmark.py\u001b[0m*\r\n",
      "\u001b[01;34mior-bench\u001b[0m/           query-benchmarks.py  report-ior.py\r\n",
      "\u001b[01;34mlogs\u001b[0m/                query-ior.ipynb      \u001b[01;34mtmp\u001b[0m/\r\n",
      "\u001b[m"
     ]
    }
   ],
   "source": [
    "ls"
   ]
  },
  {
   "cell_type": "code",
   "execution_count": 110,
   "metadata": {
    "collapsed": false
   },
   "outputs": [
    {
     "ename": "SyntaxError",
     "evalue": "invalid syntax (<ipython-input-110-2c530a9741f4>, line 1)",
     "output_type": "error",
     "traceback": [
      "\u001b[0;36m  File \u001b[0;32m\"<ipython-input-110-2c530a9741f4>\"\u001b[0;36m, line \u001b[0;32m1\u001b[0m\n\u001b[0;31m    which python\u001b[0m\n\u001b[0m               ^\u001b[0m\n\u001b[0;31mSyntaxError\u001b[0m\u001b[0;31m:\u001b[0m invalid syntax\n"
     ]
    }
   ],
   "source": [
    "which python"
   ]
  },
  {
   "cell_type": "code",
   "execution_count": null,
   "metadata": {
    "collapsed": true
   },
   "outputs": [],
   "source": []
  }
 ],
 "metadata": {
  "kernelspec": {
   "display_name": "Python 2",
   "language": "python",
   "name": "python2"
  },
  "language_info": {
   "codemirror_mode": {
    "name": "ipython",
    "version": 2
   },
   "file_extension": ".py",
   "mimetype": "text/x-python",
   "name": "python",
   "nbconvert_exporter": "python",
   "pygments_lexer": "ipython2",
   "version": "2.7.13"
  }
 },
 "nbformat": 4,
 "nbformat_minor": 2
}
