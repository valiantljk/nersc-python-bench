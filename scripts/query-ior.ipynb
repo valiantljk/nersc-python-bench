{
 "cells": [
  {
   "cell_type": "code",
   "execution_count": 2,
   "metadata": {
    "collapsed": false
   },
   "outputs": [
    {
     "name": "stdout",
     "output_type": "stream",
     "text": [
      "['', '/anaconda2/lib/python27.zip', '/anaconda2/lib/python2.7', '/anaconda2/lib/python2.7/plat-linux2', '/anaconda2/lib/python2.7/lib-tk', '/anaconda2/lib/python2.7/lib-old', '/anaconda2/lib/python2.7/lib-dynload', '/anaconda2/lib/python2.7/site-packages', '/anaconda2/lib/python2.7/site-packages/setuptools-27.2.0-py2.7.egg', '/anaconda2/lib/python2.7/site-packages/IPython/extensions', '/global/u1/j/jialin/.ipython']\n"
     ]
    }
   ],
   "source": [
    "import sys\n",
    "print(sys.path)\n",
    "sys.path.append('/global/common/cori/software/python/2.7-anaconda/lib/python2.7/site-packages')"
   ]
  },
  {
   "cell_type": "code",
   "execution_count": 3,
   "metadata": {
    "collapsed": false
   },
   "outputs": [],
   "source": [
    "#!/usr/bin/env python\n",
    "\n",
    "# module load python/2.7-anaconda\n",
    "# python query-benchmarks.py\n",
    "\n",
    "import  argparse\n",
    "import  datetime\n",
    "import  os\n",
    "import  sys\n",
    "\n",
    "import  MySQLdb\n",
    "import  numpy as np\n",
    "import  pandas as pd\n",
    "import  pytz\n",
    "\n",
    "\n",
    "pd.set_option(\"display.width\", None)\n",
    "\n",
    "TZ = pytz.timezone(\"America/Los_Angeles\")\n",
    "\n",
    "DATE_FORMAT = \"%Y-%m-%d\"\n",
    "UNIX_EPOCH = datetime.datetime(1970, 1, 1)\n",
    "\n",
    "MYSQL_DEFAULT_FILE_PATH = os.path.join(os.environ[ \"HOME\" ], \".mysql\", \".my_staffdb01.cnf\")"
   ]
  },
  {
   "cell_type": "code",
   "execution_count": null,
   "metadata": {
    "collapsed": true
   },
   "outputs": [],
   "source": []
  },
  {
   "cell_type": "code",
   "execution_count": null,
   "metadata": {
    "collapsed": true
   },
   "outputs": [],
   "source": [
    "BENCHMARKS = [\"mpi4py-import\", \"pynamic\"]\n",
    "MACHINES = [\"cori-haswell\", \"edison\"]\n",
    "RESOURCES = [\"common\", \"datawarp\", \"project\", \"scratch\", \"shifter\"]\n",
    "SIZES = [\"small\", \"large\"]"
   ]
  },
  {
   "cell_type": "code",
   "execution_count": null,
   "metadata": {
    "collapsed": true
   },
   "outputs": [],
   "source": [
    "def main():\n",
    "    args = parse_arguments()\n",
    "    benchmark_names = form_benchmark_names(args)\n",
    "    df = report_for_period_ending(benchmark_names, args.period, args.ending)\n",
    "    print_report(df) # or whatever you like..."
   ]
  },
  {
   "cell_type": "code",
   "execution_count": null,
   "metadata": {
    "collapsed": true
   },
   "outputs": [],
   "source": [
    "def print_report(df):\n",
    "    if df.empty:\n",
    "        return\n",
    "    print\n",
    "    benchmark_names = df.bench_name.unique()\n",
    "    for name in benchmark_names:\n",
    "        selection = df.loc[df[\"bench_name\"] == name]\n",
    "        if selection.empty:\n",
    "            continue\n",
    "        print name\n",
    "        print \"\".join([\"-\" for i in range(len(name))])\n",
    "        print selection[[\"timestamp\", \"metric_value\"]]\n",
    "        print"
   ]
  },
  {
   "cell_type": "code",
   "execution_count": null,
   "metadata": {
    "collapsed": true
   },
   "outputs": [],
   "source": [
    "def parse_arguments():\n",
    "    parser = argparse.ArgumentParser()\n",
    "    parser.add_argument(\"--benchmark\", \"-b\", \n",
    "            help = \"benchmark name\", \n",
    "            choices = BENCHMARKS)\n",
    "    parser.add_argument(\"--machine\", \"-m\",\n",
    "            help = \"machine name\",\n",
    "            choices = MACHINES)\n",
    "    parser.add_argument(\"--resource\", \"-r\",\n",
    "            help = \"storage or container resource\",\n",
    "            choices = RESOURCES)\n",
    "    parser.add_argument(\"--size\", \"-s\",\n",
    "            help = \"size of benchmark test\",\n",
    "            choices = SIZES)\n",
    "    parser.add_argument(\"--period\", \"-p\",\n",
    "            help = \"length of sampling period (days) [%(default)s]\", \n",
    "            default = 60,\n",
    "            type = int)\n",
    "    parser.add_argument(\"--ending\", \"-e\",\n",
    "            help = \"sampling period UTC end date YYYY-MM-DD [today]\")\n",
    "    return parser.parse_args()"
   ]
  },
  {
   "cell_type": "code",
   "execution_count": null,
   "metadata": {
    "collapsed": true
   },
   "outputs": [],
   "source": [
    "def form_benchmark_names(args):\n",
    "    benchmarks = BENCHMARKS if args.benchmark is None else [args.benchmark]\n",
    "    machines = MACHINES if args.machine is None else [args.machine]\n",
    "    resources = RESOURCES if args.resource is None else [args.resource]\n",
    "    sizes = SIZES if args.size is None else [args.size]\n",
    "\n",
    "    benchmark_names = list()\n",
    "    for benchmark in benchmarks:\n",
    "        for machine in machines:\n",
    "            for resource in resources:\n",
    "                for size in sizes:\n",
    "                    try:\n",
    "                        name = form_benchmark_name(benchmark, machine, resource, size)\n",
    "                    except ValueError:\n",
    "                        continue\n",
    "                    benchmark_names.append(name)\n",
    "    return benchmark_names"
   ]
  },
  {
   "cell_type": "code",
   "execution_count": null,
   "metadata": {
    "collapsed": true
   },
   "outputs": [],
   "source": [
    "def form_benchmark_name(benchmark, machine, resource, size):\n",
    "    assert_resource(machine, resource)\n",
    "    nodes = size_to_nodes(machine, size)\n",
    "    return \"-\".join([benchmark, machine, resource, nodes])\n",
    "\n",
    "\n",
    "def assert_resource(machine, resource):\n",
    "    if machine == \"cori-haswell\":\n",
    "        return assert_resource_cori_haswell(resource)\n",
    "    if machine == \"edison\":\n",
    "        return assert_resource_edison(resource)\n",
    "    raise ValueError\n",
    "\n",
    "\n",
    "def assert_resource_cori_haswell(resource):\n",
    "    pass\n",
    "\n",
    "\n",
    "def assert_resource_edison(resource):\n",
    "    if resource != \"datawarp\":\n",
    "        return\n",
    "    raise ValueError"
   ]
  },
  {
   "cell_type": "code",
   "execution_count": null,
   "metadata": {
    "collapsed": true
   },
   "outputs": [],
   "source": [
    "def size_to_nodes(machine, size):\n",
    "    if machine == \"cori-haswell\":\n",
    "        return size_to_nodes_cori_haswell(size)\n",
    "    if machine == \"edison\":\n",
    "        return size_to_nodes_edison(size)\n",
    "    raise ValueError\n",
    "\n",
    "\n",
    "def size_to_nodes_cori_haswell(size):\n",
    "    if size == \"small\":\n",
    "        return \"003\"\n",
    "    if size == \"large\":\n",
    "        return \"150\"\n",
    "    raise ValueError\n",
    "\n",
    "\n",
    "def size_to_nodes_edison(size):\n",
    "    if size == \"small\":\n",
    "        return \"004\"\n",
    "    if size == \"large\":\n",
    "        return \"200\"\n",
    "    raise ValueError"
   ]
  },
  {
   "cell_type": "code",
   "execution_count": null,
   "metadata": {
    "collapsed": true
   },
   "outputs": [],
   "source": [
    "def report_for_period_ending(benchmark_names, period, ending):\n",
    "    begin, end = period_ending_to_begin_end(period, ending)\n",
    "    df = query_by_begin_end(benchmark_names, begin, end)\n",
    "    df.timestamp = UNIX_EPOCH + pd.to_timedelta(df.timestamp, \"s\")\n",
    "    df.timestamp = df.timestamp.dt.tz_localize(pytz.utc).dt.tz_convert(TZ)\n",
    "    return df[\"timestamp bench_name numtasks hostname metric_value\".split()].sort_values(\"timestamp\")\n",
    "\n",
    "\n",
    "def period_ending_to_begin_end(period, ending):\n",
    "    ending = ending or datetime.datetime.utcnow().strftime(DATE_FORMAT)\n",
    "    end = datetime.datetime.strptime(ending, DATE_FORMAT)\n",
    "    begin = end - datetime.timedelta(days = period)\n",
    "    end += datetime.timedelta(days = 1)\n",
    "    return timestamp(begin), timestamp(end)\n",
    "\n",
    "\n",
    "def timestamp(datetime):\n",
    "    return (datetime - UNIX_EPOCH).total_seconds()\n",
    "\n",
    "\n",
    "def query_by_begin_end(benchmark_names, begin, end):\n",
    "    sql, params = sql_from_timestamp_range(benchmark_names, begin, end)\n",
    "    return pd.read_sql(sql, broker_database_connection(), params = params)"
   ]
  },
  {
   "cell_type": "code",
   "execution_count": null,
   "metadata": {
    "collapsed": true
   },
   "outputs": [],
   "source": [
    "def sql_from_timestamp_range(benchmark_names, begin, end):\n",
    "    return (\"\"\"select \n",
    "        bench_name, \n",
    "        timestamp, \n",
    "        metric_value, \n",
    "        jobid, \n",
    "        numtasks, \n",
    "        hostname \n",
    "    from monitor\n",
    "    where bench_name in %s\n",
    "        and timestamp between %s and %s\"\"\", \n",
    "        (benchmark_names, begin, end))\n",
    "\n",
    "#       and metric_value is not null\n",
    "#       and notes is null"
   ]
  },
  {
   "cell_type": "code",
   "execution_count": null,
   "metadata": {
    "collapsed": true
   },
   "outputs": [],
   "source": [
    "def broker_database_connection():\n",
    "    return MySQLdb.connect(db = \"benchmarks\", read_default_file = MYSQL_DEFAULT_FILE_PATH)\n",
    "\n",
    "\n",
    "if __name__ == \"__main__\":\n",
    "    sys.exit(main())"
   ]
  }
 ],
 "metadata": {
  "anaconda-cloud": {},
  "kernelspec": {
   "display_name": "Python 2",
   "language": "python",
   "name": "python2"
  },
  "language_info": {
   "codemirror_mode": {
    "name": "ipython",
    "version": 2
   },
   "file_extension": ".py",
   "mimetype": "text/x-python",
   "name": "python",
   "nbconvert_exporter": "python",
   "pygments_lexer": "ipython2",
   "version": "2.7.13"
  }
 },
 "nbformat": 4,
 "nbformat_minor": 0
}
